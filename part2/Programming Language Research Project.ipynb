{
 "cells": [
  {
   "cell_type": "markdown",
   "metadata": {},
   "source": [
    "##########################################################\n",
    "# CST8333 2018 Final Project         #\n",
    "#                                                         #\n",
    "# Created by Jay  Italia      #\n",
    "# November 22 ,2018                        #\n",
    "#                                                         #\n",
    "##########################################################\n"
   ]
  },
  {
   "cell_type": "code",
   "execution_count": 19,
   "metadata": {},
   "outputs": [],
   "source": [
    "\n",
    "import csv\n",
    "import json as json\n",
    "import threading\n",
    "from io import StringIO\n",
    "from tabulate import tabulate\n",
    "\n",
    "import pandas as pd # import statements"
   ]
  },
  {
   "cell_type": "code",
   "execution_count": 20,
   "metadata": {},
   "outputs": [],
   "source": [
    "# To Show all rows and coloumn in Output without truncating used this from (https://stackoverflow.com/a/37347783/8101986)\n",
    "\n",
    "pd.set_option('display.max_columns', None)  # or 1000\n",
    "pd.set_option('display.max_rows', None)  # or 1000\n",
    "pd.set_option('display.max_colwidth', -1)  # or 199\n",
    "\n",
    "df = pd.read_csv(\"32100054.csv\", sep = \",\") # Input File Read\n",
    "\n",
    "# df.rename(columns={'REF_DATE':'DATE', 'Food categories':'Food_categories'}, inplace=True) # rename one or more columns"
   ]
  },
  {
   "cell_type": "code",
   "execution_count": 21,
   "metadata": {},
   "outputs": [],
   "source": [
    "def DataExamination(): # examine the df data\n",
    "    \n",
    "    print(\"\\n Author is Jay Italia \\n \") \n",
    "    \n",
    "    # print(df.head(5)) # Display data After Renaming\n",
    "\n",
    "    # print(df)           # print the first 30 and last 30 rows\n",
    "    print(type(df) )    # DataFrame\n",
    "    print(df.tail())    # print the last 5 rows\n",
    "    print(df.index)     # “the index” (aka “the labels”)\n",
    "    print(df.columns)   # column names (which is “an index”)\n",
    "    print(df.dtypes)    # data types of each column\n",
    "    print(df.shape)     # number of rows and columns\n",
    "    print(df.values)    # underlying numpy array — df are stored as numpy arrays for effeciencies.\n",
    "\n",
    "    print(\"Shape(Row) Of Data Frame is \",df.shape[0]) # display only the number of rows of the ‘df’ DataFrame\n",
    "    print(\"Shape(column) Of Data Frame is \",df.shape[1])# display only the number of column of the ‘df’ DataFrame\n"
   ]
  },
  {
   "cell_type": "code",
   "execution_count": 22,
   "metadata": {},
   "outputs": [
    {
     "name": "stdout",
     "output_type": "stream",
     "text": [
      "\n",
      " Author is Jay Italia \n",
      " \n"
     ]
    }
   ],
   "source": [
    "def showAllbyPd(): # Displaying data in pandas dataframe\n",
    "    \n",
    "    print(\"\\n Author is Jay Italia \\n \")  \n",
    "    \n",
    "    print(pd.DataFrame(df).head())\n",
    "\n",
    "\n",
    "\n",
    "class DataReader(): # Created a class to read csv file and place into list\n",
    "    \n",
    "    print(\"\\n Author is Jay Italia \\n \") \n",
    "\n",
    "    def __init__(self, fname):  # DatabaseReader constructor\n",
    "        self.fname = fname;\n",
    "\n",
    "    def rowList(self):\n",
    "        with open(self.fname, newline='') as csvfile: # CSV File reading\n",
    "            reader = csv.reader(csvfile)\n",
    "            dlist = list(reader)\n",
    "        return dlist\n",
    "\n",
    "def showData(dlist): # function to show all the rows from dataset\n",
    "    \n",
    "    print(\"\\n Author is Jay Italia \\n \") \n",
    "    \n",
    "    for row in dlist: #Looping Structures\n",
    "        print(row) # prints all the rows in console\n",
    "\n",
    "def showNumRows(dlist): # function to count the total number of rows.\n",
    "        \n",
    "        print(\"\\n Author is Jay Italia \\n \") \n",
    "        \n",
    "        return len(dlist) - 1\n",
    "\n",
    "def showRow(dlist, row): # function to show specfic row that user wants.\n",
    "    \n",
    "    print(\"\\n Author is Jay Italia \\n \") \n",
    "    \n",
    "    print(dlist[row])\n",
    "\n",
    "def showCommodiytOnUOM():\n",
    "    print(\"\\n Author is Jay Italia \\n \") \n",
    "    print(df[df[\"UOM_ID\"] == 205])\n",
    "\n"
   ]
  },
  {
   "cell_type": "code",
   "execution_count": 23,
   "metadata": {},
   "outputs": [],
   "source": [
    "def showOnCommodityName():# To select rows whose column value equals a scalar, some_value, use ==:\n",
    "    \n",
    "    print(\"\\n Author is Jay Italia \\n \") \n",
    "    \n",
    "    commodity_name = input(\"Enter Commodity Name for which you want to search same commodity values :\\n\")# Variable assignment\n",
    "\n",
    "    print(df.loc[df['Commodity'] == commodity_name])# print all rows in which this specific commodity exist\n",
    "\n",
    "    print(\"Total Count of data having \", commodity_name, \"Commodity name is : \")\n",
    "    print(df.loc[df.Commodity == commodity_name, 'Commodity'].count())  # find total count\n",
    "\n"
   ]
  },
  {
   "cell_type": "code",
   "execution_count": 24,
   "metadata": {},
   "outputs": [],
   "source": [
    "def show_on_UOM(): # To select rows whose column value equals a scalar, some_value, use ==:\n",
    "    \n",
    "    print(\"\\n Author is Jay Italia \\n \") \n",
    "    \n",
    "    uom_name = input(\"\\n Enter UOM Name which you want to search\\n \") # Variable assignment\n",
    "\n",
    "    print((df.loc[df['UOM'] == uom_name]))# print all rows in which this specific UOM exist\n",
    "\n",
    "    print(\"\\n Total Count of data having \",uom_name,\"UOM is : \\n \")\n",
    "\n",
    "    # print(df.loc[df.UOM == uom_name, 'UOM'].count())  # find total count\n",
    "\n"
   ]
  },
  {
   "cell_type": "code",
   "execution_count": 25,
   "metadata": {},
   "outputs": [],
   "source": [
    "def total_ref_date():\n",
    "\n",
    "    print(\"\\n Author is Jay Italia \\n \") \n",
    "    \n",
    "    ref_date = input(\"Enter Ref date for which you want to search \\n\")  # Variable assignment\n",
    "    print(\"Total Count of  Ref Year \", ref_date, \" is : \")\n",
    "\n",
    "    # print(df.loc[df.DATE == ref_date, 'DATE'].count())  # find total count\n"
   ]
  },
  {
   "cell_type": "code",
   "execution_count": 26,
   "metadata": {},
   "outputs": [],
   "source": [
    "def df_to_json(df, filename=''): # Function to convert a pandas data frame into a JSON object\n",
    "    \n",
    "    print(\"\\n Author is Jay Italia \\n \") \n",
    "    \n",
    "    x = df.to_json(orient=\"values\")  # json = df1.to_json(orient=\"values\") # Writing out Data in JSON Formating\n",
    "\n",
    "    if filename:  # Decision Structures\n",
    "        with open(filename, 'w+') as f: f.write(json.dumps(x)) # File Writing as Filename = ' ' given from input\n",
    "    return x\n"
   ]
  },
  {
   "cell_type": "code",
   "execution_count": 27,
   "metadata": {},
   "outputs": [],
   "source": [
    "def show_on_Food_categories():\n",
    "\n",
    "    print(\"\\n Author is Jay Italia \\n \") \n",
    "    \n",
    "    food_categories = input(\"\\n Enter Food categories Name which you want to search\\n \")\n",
    "    print((df.loc[df['Food categories'] == food_categories]))  # print all rows in which this specific Food categories exist"
   ]
  },
  {
   "cell_type": "code",
   "execution_count": 28,
   "metadata": {},
   "outputs": [],
   "source": [
    "def sorting_OnValue():\n",
    "    \n",
    "    print(\"\\n Author is Jay Italia \\n \") \n",
    "    \n",
    "    val = df.sort_values(['VALUE'], ascending=False) # sorting algorithms is used to sort rows in ascending on VALUE 's values # Variables: declaration\n",
    "    df1 = val[['Food categories','Commodity','VALUE']]\n",
    "    maxvalues = df1[df1['VALUE'] == df1['VALUE'].max()] # pandas df max function used to get max value in VALUE coloumn\n",
    "    minvalues = df1[df1['VALUE'] == df1['VALUE'].min()]# pandas df min function used to get min value in VALUE coloumn\n",
    "\n",
    "    # print(df1.head())\n",
    "    # print(\"\\n Max values row is : \\n\", maxvalues)\n",
    "    # print(\"\\n Min values row is : \\n\", minvalues)\n",
    "    # print(\"\\n Memory usage information in accurate number :\\n\")\n",
    "    # print(df1.info(memory_usage='deep'))  # we'll set the memory_usage parameter to 'deep' to get an accurate number.\n",
    "    df_to_json(df1,'JSON_output.txt')  # Pandas to JSON converting Function Call\n",
    "\n",
    "    print(\"\\n Output in JSON format \\n\")\n",
    "    print(json)\n",
    "\n",
    "\n"
   ]
  },
  {
   "cell_type": "code",
   "execution_count": 29,
   "metadata": {},
   "outputs": [],
   "source": [
    "def sortingOn_UOM_ID():\n",
    "    \n",
    "    print(\"\\n Author is Jay Italia \\n \") \n",
    "    \n",
    "    newval = df.sort_values(['UOM_ID'],ascending=True)  # sorting algorithms is used to sort rows in ascending on VALUE 's values # Variables: declaration\n",
    "    df2 = newval[['Food categories', 'Commodity','UOM_ID']]  # new dataframe declaration\n",
    "    print(df2.head(10))\n",
    "    print(\"\\n Memory usage information in accurate number :\\n\")\n",
    "    print(df2.info(memory_usage='deep')) # we'll set the memory_usage parameter to 'deep' to get an accurate number.\n",
    "\n",
    "pd.set_option('max_colwidth', 800)"
   ]
  },
  {
   "cell_type": "code",
   "execution_count": 30,
   "metadata": {},
   "outputs": [],
   "source": [
    "def MathOperetions():\n",
    "    \n",
    "    print(\"\\n Author is Jay Italia \\n \") \n",
    "    \n",
    "    # print(df.groupby('VALUE').mean())\n",
    "    # print(df.groupby('VECTOR').describe())\n",
    "    # print(\" And Operations\")\n",
    "    # print(df[(df.VALUE >60) & (df.REF_DATE==1960)])# ampersand for AND condition # boolean filtering with multiple conditions; indexes are in square brackets, conditions are in parens\n"
   ]
  },
  {
   "cell_type": "code",
   "execution_count": 31,
   "metadata": {},
   "outputs": [],
   "source": [
    "def List_iterator(): # List Comprehensions\n",
    "\n",
    "    print(\"\\n Author is Jay Italia \\n \") \n",
    "    \n",
    "    squares = []\n",
    "    # print(df.loc[:,\"VALUE\"])\n",
    "    for x in (df.loc[:,\"VALUE\"]>0):\n",
    "         print(squares.append(x**2))\n",
    "         print(squares)"
   ]
  },
  {
   "cell_type": "code",
   "execution_count": 33,
   "metadata": {},
   "outputs": [
    {
     "name": "stdout",
     "output_type": "stream",
     "text": [
      "\n",
      " Author is Jay Italia \n",
      " \n",
      "\n",
      " Author is Jay Italia \n",
      " \n",
      "                          Food categories                 Commodity  UOM_ID\n",
      "0                          Food available               Wheat flour     194\n",
      "19660  Food available adjusted for losses               Leeks fresh     194\n",
      "19659  Food available adjusted for losses            Kohlrabi fresh     194\n",
      "19658  Food available adjusted for losses              Garlic fresh     194\n",
      "19657  Food available adjusted for losses           Eggplants fresh     194\n",
      "19656  Food available adjusted for losses  Other edible roots fresh     194\n",
      "19655  Food available adjusted for losses           Cucumbers fresh     194\n",
      "19654  Food available adjusted for losses               Corn frozen     194\n",
      "19653  Food available adjusted for losses               Corn canned     194\n",
      "19652  Food available adjusted for losses                Corn fresh     194\n",
      "\n",
      " Memory usage information in accurate number :\n",
      "\n",
      "\n",
      " Author is Jay Italia \n",
      " \n",
      "<class 'pandas.core.frame.DataFrame'>\n",
      "Int64Index: 30559 entries, 0 to 22395\n",
      "Data columns (total 3 columns):\n",
      "Food categories    30559 non-null object\n",
      "Commodity          30559 non-null object\n",
      "UOM_ID             30559 non-null int64\n",
      "dtypes: int64(1), object(2)\n",
      "memory usage: 5.0 MB\n",
      "None\n",
      "\n",
      " Output in JSON format \n",
      "\n",
      "<module 'json' from 'D:\\\\Anaconda3\\\\lib\\\\json\\\\__init__.py'>\n"
     ]
    }
   ],
   "source": [
    "def main():\n",
    "        \n",
    "    # data = DataReader('32100054.csv') # reads the .csv file\n",
    "    #\n",
    "    # dList = data.rowList()    # Function for Showing the data\n",
    "    # showData(dList)\n",
    "    # showCommodiytOnUOM()   # Function for Showing all rows Commodity based on UOM\n",
    "    # showAllbyPd()\n",
    "    # showOnCommodityName()  #Function for Showing all rows having specific commodity name\n",
    "    # total_ref_date()\n",
    "    # show_on_Food_categories() #function for showing all rows having specific food category\n",
    "    #\n",
    "    # show_on_UOM()\n",
    "    # sorting_OnValue() # function for sorting Values in ascending or descending order\n",
    "    #\n",
    "    # sortingOn_UOM_ID()# function for sorting Values in ascending or descending order\n",
    "    #\n",
    "    # Multithreading to execute two given process\n",
    "\n",
    "    t1 = threading.Thread(target=sorting_OnValue)\n",
    "    t2 = threading.Thread(target=sortingOn_UOM_ID)\n",
    "\n",
    "    t1.start()# starting thread 1\n",
    "\n",
    "    t2.start() # starting thread 2\n",
    "\n",
    "    t1.join()# wait u ntil thread 1 is completely executed\n",
    "\n",
    "    t2.join() # wait until thread 2 is completely executed\n",
    "    #\n",
    "    # MathOperetions()\n",
    "    # List_iterator() # Iterator Function for List\n",
    "\n",
    "    # DataExamination() # Function for input data explorations\n",
    "# this block of code allows running this program from the command line,\n",
    "# taken from Python's official PyUnit documentation.\n",
    "# Python Software Foundation. (2015). 26.4.1. Basic example. [Webpage].\n",
    "# Retrieved from https://docs.python.org/3/library/unittest.html#basic-example.\n",
    "\n",
    "if __name__ == \"__main__\":\n",
    "    # executes if run as main program.\n",
    "    main()\n"
   ]
  },
  {
   "cell_type": "code",
   "execution_count": null,
   "metadata": {},
   "outputs": [],
   "source": []
  },
  {
   "cell_type": "code",
   "execution_count": null,
   "metadata": {},
   "outputs": [],
   "source": []
  },
  {
   "cell_type": "code",
   "execution_count": null,
   "metadata": {},
   "outputs": [],
   "source": []
  }
 ],
 "metadata": {
  "kernelspec": {
   "display_name": "Python 3",
   "language": "python",
   "name": "python3"
  },
  "language_info": {
   "codemirror_mode": {
    "name": "ipython",
    "version": 3
   },
   "file_extension": ".py",
   "mimetype": "text/x-python",
   "name": "python",
   "nbconvert_exporter": "python",
   "pygments_lexer": "ipython3",
   "version": "3.6.7"
  }
 },
 "nbformat": 4,
 "nbformat_minor": 2
}
